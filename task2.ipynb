{
 "cells": [
  {
   "cell_type": "markdown",
   "metadata": {},
   "source": [
    "# Вариант 17\n",
    "Описать функцию 𝑓(𝑥, 𝑦, 𝑐), при реализации включить обработку\n",
    "исключительных ситуаций: \n",
    "\n",
    "\n",
    "$$\n",
    "f(x, y, c) = \\frac{\\sin(x^4 - 6) - \\tan\\left(\\sqrt[3]{c} + xy\\right)}{\\cos^3\\left(\\left| {x^3}{c} \\right|\\right)}\n",
    "$$\n",
    "а) посчитать значения функции:\n",
    "\n",
    "𝑥 = −0.2, 𝑦 = −4.41, 𝑐 = 1.2;\n",
    "\n",
    "𝑥 = 1, 𝑦 = 1, 𝑐 = ${\\frac{\\pi}2}$\n",
    "\n",
    "c) вывести таблицу значений функции 𝑓(𝑥, 𝑦, 𝑐), состоящей из N=25 строк, в точках (𝑥𝑖, 𝑦𝑖, 𝑐𝑖), 𝑖 = 1. . 𝑁, где\n",
    "$$\n",
    "\n",
    "x_i = \\frac{(i - 0.5)^2}{\\sqrt{i + 1}},\n",
    "\n",
    "\n",
    "\n",
    "y_i = \\tan\\left(\\frac{i}{i + 1} \\cdot \\frac{\\pi}{7}\\right),\n",
    "\n",
    "\n",
    "\n",
    "c_i = \\frac{i}{e^{\\sqrt{i}}}.\n",
    "$$\n",
    "\n",
    "Таблицу вывести в следующем виде (использовать форматный вывод), все числа в\n",
    "таблице (кроме номера) вывести с 5 знаками после запятой:\n",
    "\n",
    "|N пп| x| y| c| f(x,y,c)|\n",
    "|----|--|--|--|---------|\n",
    "|1   |...|...|...|...|"
   ]
  },
  {
   "cell_type": "code",
   "execution_count": 2,
   "metadata": {},
   "outputs": [],
   "source": [
    "import math\n",
    "import matplotlib.pyplot as plt\n",
    "import matplotlib.patches as patches\n",
    "import numpy as np\n"
   ]
  },
  {
   "cell_type": "code",
   "execution_count": 2,
   "metadata": {},
   "outputs": [
    {
     "name": "stdout",
     "output_type": "stream",
     "text": [
      "f(-0.2, -4.41, 1.2) = 2.830326999726103\n",
      "f(1, 1, 1.5707963267948966) = 1.0658957240428776e+49\n",
      "| N пп |     x     |     y     |     c     |  f(x,y,c) |\n",
      "|------|-----------|-----------|-----------|-----------|\n",
      "|    1 | 0.17678 | 0.22824 | 0.36788 | -0.66418 |\n",
      "|    2 | 1.29904 | 0.30846 | 0.48623 | -21.78584 |\n",
      "|    3 | 3.12500 | 0.34992 | 0.53076 | -5.65015 |\n",
      "|    4 | 5.47837 | 0.37531 | 0.54134 | 6.59600 |\n",
      "|    5 | 8.26703 | 0.39247 | 0.53439 | -1.08474 |\n",
      "|    6 | 11.43343 | 0.40486 | 0.51803 | 42.17377 |\n",
      "|    7 | 14.93763 | 0.41421 | 0.49666 | 0.31017 |\n",
      "|    8 | 18.75000 | 0.42154 | 0.47285 | 1.15958 |\n",
      "|    9 | 22.84746 | 0.42742 | 0.44808 | 1.07604 |\n",
      "|   10 | 27.21140 | 0.43225 | 0.42329 | 1.45638 |\n",
      "|   11 | 31.82643 | 0.43630 | 0.39903 | -13.90283 |\n",
      "|   12 | 36.67955 | 0.43972 | 0.37561 | -2.57412 |\n",
      "|   13 | 41.75957 | 0.44267 | 0.35324 | -3.37887 |\n",
      "|   14 | 47.05675 | 0.44523 | 0.33201 | 0.23650 |\n",
      "|   15 | 52.56250 | 0.44747 | 0.31194 | 35.93451 |\n",
      "|   16 | 58.26918 | 0.44945 | 0.29305 | -11.84539 |\n",
      "|   17 | 64.16994 | 0.45122 | 0.27530 | 104.87686 |\n",
      "|   18 | 70.25857 | 0.45280 | 0.25865 | -2.07687 |\n",
      "|   19 | 76.52943 | 0.45422 | 0.24306 | 0.87261 |\n",
      "|   20 | 82.97735 | 0.45551 | 0.22846 | 502.95949 |\n",
      "|   21 | 89.59760 | 0.45668 | 0.21480 | -1.19389 |\n",
      "|   22 | 96.38579 | 0.45776 | 0.20202 | -127.44679 |\n",
      "|   23 | 103.33785 | 0.45874 | 0.19007 | -23.07950 |\n",
      "|   24 | 110.45000 | 0.45965 | 0.17890 | 3.29891 |\n",
      "|   25 | 117.71871 | 0.46048 | 0.16845 | 3.84585 |\n"
     ]
    }
   ],
   "source": [
    "\n",
    "\n",
    "def f(x, y, c):\n",
    "    try:\n",
    "        numerator = math.sin(x**4 - 6) - math.tan(math.pow(c, 1/3) + x * y)\n",
    "        denominator = math.pow(math.cos(abs(x**3 * c)), 3)\n",
    "        if denominator == 0:\n",
    "            raise ValueError(\"Деление на ноль: знаменатель равен нулю.\")\n",
    "        return numerator / denominator\n",
    "    except Exception as e:\n",
    "        return f\"Ошибка: {e}\"\n",
    "\n",
    "\n",
    "def calculate_values(i):\n",
    "    x_i = (i - 0.5)**2 / math.sqrt(i + 1)\n",
    "    y_i = math.tan((i / (i + 1)) * (math.pi / 7))\n",
    "    c_i = i / math.exp(math.sqrt(i))\n",
    "    return x_i, y_i, c_i\n",
    "\n",
    "\n",
    "def print_table(N):\n",
    "    print(\"| N пп |     x     |     y     |     c     |  f(x,y,c) |\")\n",
    "    print(\"|------|-----------|-----------|-----------|-----------|\")\n",
    "    for i in range(1, N + 1):\n",
    "        x_i, y_i, c_i = calculate_values(i)\n",
    "        f_value = f(x_i, y_i, c_i)\n",
    "        print(f\"| {i:4} | {x_i:.5f} | {y_i:.5f} | {c_i:.5f} | {f_value if isinstance(f_value, str) else f_value:.5f} |\")\n",
    "\n",
    "x1, y1, c1 = -0.2, -4.41, 1.2\n",
    "x2, y2, c2 = 1, 1, math.pi / 2\n",
    "\n",
    "print(f\"f({x1}, {y1}, {c1}) = {f(x1, y1, c1)}\")\n",
    "print(f\"f({x2}, {y2}, {c2}) = {f(x2, y2, c2)}\")\n",
    "\n",
    "\n",
    "N = 25\n",
    "print_table(N)"
   ]
  },
  {
   "cell_type": "markdown",
   "metadata": {},
   "source": [
    "# Задание 2\n",
    "Построить график функции на интервале [a, b]: \n",
    "$$ 𝑓(𝑥) = \\frac {(5 \\dot x)} {x^3 - 8} $$"
   ]
  },
  {
   "cell_type": "code",
   "execution_count": 19,
   "metadata": {},
   "outputs": [
    {
     "data": {
      "image/png": "[encoded data removed]",
      "text/plain": [
       "<Figure size 800x600 with 1 Axes>"
      ]
     },
     "metadata": {},
     "output_type": "display_data"
    }
   ],
   "source": [
    "def funcgraph(x):\n",
    "    return 5 * x / (x**3 - 8)\n",
    "\n",
    "a, b = -5, 5  \n",
    "x = np.linspace(a, b, 1000)\n",
    "y = np.full_like(x, np.nan) \n",
    "\n",
    "\n",
    "for i, val in enumerate(x):\n",
    "    if np.isclose(val**3, 8):  \n",
    "        continue\n",
    "    y[i] = funcgraph(val)\n",
    "\n",
    "afig, ax = plt.subplots(figsize=(8, 6))\n",
    "ax.plot(x, y, label=r'$f(x) = \\frac{5x}{x^3 - 8}$')\n",
    "ax.axhline(0, color='black', linewidth=0.5)\n",
    "ax.axvline(0, color='black', linewidth=0.5)\n",
    "ax.axvline(np.cbrt(8), color='red', linestyle='--', label='Asymptote')\n",
    "\n",
    "ax.legend()\n",
    "ax.set_xlabel('x')\n",
    "ax.set_ylabel('f(x)')\n",
    "ax.set_title('График функции f(x)')\n",
    "ax.grid()\n",
    "plt.show()\n"
   ]
  },
  {
   "cell_type": "markdown",
   "metadata": {},
   "source": [
    "\n",
    "\n",
    "#### **1. Задание**\n",
    "Данный код реализует построение графика функции  \n",
    "\n",
    "$$ f(x) = \\frac{5x}{x^3 - 8}$$\n",
    "\n",
    "на заданном интервале $$ [a, b] $$ с использованием библиотеки `matplotlib`. В коде также предусмотрена визуализация разрыва функции и добавление примитивных графических объектов.\n",
    "\n",
    "---\n",
    "\n",
    "#### **2. Алгоритм**\n",
    "\n",
    "1. **Определение функции**  \n",
    "   Функция `f(x)` определяется как:\n",
    "   ```python\n",
    "   def funcgraph(x):\n",
    "       return 5 * x / (x**3 - 8)\n",
    "   ```\n",
    "   Данный математический объект представляет собой рациональную функцию, знаменатель которой может обращаться в ноль, что приводит к точке разрыва.\n",
    "\n",
    "2. **Создание числовой оси**  \n",
    "   Величины `a` и `b` задают границы области построения графика.  \n",
    "   ```python\n",
    "   a, b = -5, 5\n",
    "   x = np.linspace(a, b, 1000)\n",
    "   ```\n",
    "   Здесь `np.linspace(a, b, 1000)` формирует массив из 1000 точек в заданном диапазоне.\n",
    "\n",
    "3. **Обработка разрыва функции**  \n",
    "   Так как в точке $$ x = \\sqrt[3]{8} $$ знаменатель обращается в ноль, необходимо исключить эту точку из вычислений:\n",
    "   ```python\n",
    "   y = np.full_like(x, np.nan)  # Заполняем массив NaN значениями\n",
    "   for i, val in enumerate(x):\n",
    "       if np.isclose(val**3, 8):  # Проверяем точку разрыва\n",
    "           continue\n",
    "       y[i] = f(val)\n",
    "   ```\n",
    "   Здесь `np.isclose(val**3, 8)` предотвращает деление на ноль.\n",
    "\n",
    "4. **Построение графика**  \n",
    "   Используется объектно-ориентированный стиль `matplotlib`:\n",
    "   ```python\n",
    "   fig, ax = plt.subplots(figsize=(8, 6))\n",
    "   ax.plot(x, y, label=r'$f(x) = \\frac{5x}{x^3 - 8}$')\n",
    "   ```\n",
    "   Визуализируется график с автоматическим разрывом.\n",
    "\n",
    "5. **Добавление осей и асимптоты**  \n",
    "   Вертикальные и горизонтальные оси, а также асимптота в точке \\( x = \\sqrt[3]{8} \\) добавляются следующим кодом:\n",
    "   ```python\n",
    "   ax.axhline(0, color='black', linewidth=0.5)\n",
    "   ax.axvline(0, color='black', linewidth=0.5)\n",
    "   ax.axvline(np.cbrt(8), color='red', linestyle='--', label='Asymptote')\n",
    "   ```\n",
    "\n",
    "6. **Оформление графика**  \n",
    "   Включается легенда, подписываются оси и заголовок:\n",
    "   ```python\n",
    "   ax.legend()\n",
    "   ax.set_xlabel('x')\n",
    "   ax.set_ylabel('f(x)')\n",
    "   ax.set_title('График функции f(x) и рисунок')\n",
    "   ax.grid()\n",
    "   ```\n",
    "   После этого вызывается `plt.show()` для отображения результата.\n",
    "\n",
    "---\n",
    "---\n"
   ]
  },
  {
   "cell_type": "markdown",
   "metadata": {},
   "source": [
    "## Задание 3 \n",
    "Выбрать произвольный рисунок и нарисовать его средствами модуля\n",
    "```matplotlib.patches.```"
   ]
  },
  {
   "cell_type": "code",
   "execution_count": null,
   "metadata": {},
   "outputs": [
    {
     "data": {
      "image/png": "[encoded data removed]",
      "text/plain": [
       "<Figure size 600x600 with 1 Axes>"
      ]
     },
     "metadata": {},
     "output_type": "display_data"
    }
   ],
   "source": [
    "fig, ax = plt.subplots(figsize=(6, 6))\n",
    "\n",
    "t = np.linspace(0, 2 * np.pi, 100)\n",
    "x = 16 * np.sin(t) ** 3\n",
    "y = 13 * np.cos(t) - 5 * np.cos(2*t) - 2 * np.cos(3*t) - np.cos(4*t)\n",
    "\n",
    "x = x / 16\n",
    "y = y / 16\n",
    "\n",
    "heart = patches.Polygon(np.column_stack([x, y]), closed=True, \n",
    "                        facecolor='red', edgecolor='darkred', linewidth=2)\n",
    "\n",
    "ax.add_patch(heart)\n",
    "\n",
    "ax.set_xlim(-1.5, 1.5)\n",
    "ax.set_ylim(-1.5, 1.5)\n",
    "ax.set_aspect('equal')\n",
    "ax.axis('off') \n",
    "\n",
    "plt.title('Сердце', pad=20)\n",
    "plt.show()"
   ]
  }
 ],
 "metadata": {
  "kernelspec": {
   "display_name": ".venv",
   "language": "python",
   "name": "python3"
  },
  "language_info": {
   "codemirror_mode": {
    "name": "ipython",
    "version": 3
   },
   "file_extension": ".py",
   "mimetype": "text/x-python",
   "name": "python",
   "nbconvert_exporter": "python",
   "pygments_lexer": "ipython3",
   "version": "3.13.2"
  }
 },
 "nbformat": 4,
 "nbformat_minor": 2
}
