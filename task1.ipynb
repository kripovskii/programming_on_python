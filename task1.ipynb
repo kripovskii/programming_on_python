{
 "cells": [
  {
   "cell_type": "markdown",
   "metadata": {},
   "source": [
    "## Вариант 4\n",
    "1. Дана окружность радиуса r и величина центрального угла (в градусах). Найти длину дуги\n",
    "и площадь сектора, ограниченных этим углом.\n",
    "2. Составить программу для решения уравнения a·x = b, где a и b – заданные\n",
    "действительные числа."
   ]
  },
  {
   "cell_type": "code",
   "execution_count": 1,
   "metadata": {},
   "outputs": [],
   "source": [
    "import math\n",
    "import os"
   ]
  },
  {
   "cell_type": "markdown",
   "metadata": {},
   "source": [
    "### Длина дуги \\( L \\)\n",
    "Формула для вычисления длины дуги окружности:\n",
    "\n",
    "$$L = \\frac{\\theta}{360} \\times 2\\pi r$$\n",
    "\n",
    "где:\n",
    "- $ {\\theta} $ — центральный угол в градусах,\n",
    "-  $ {r} $  — радиус окружности.\n",
    "\n",
    "### Площадь сектора \\( S \\)\n",
    "Формула для вычисления площади сектора окружности:\n",
    "$$\n",
    "S = \\frac{\\theta}{360} \\times \\pi r^2\n",
    "$$\n",
    "где:\n",
    "-  ${\\theta}$  — центральный угол в градусах,\n",
    "-  ${ r }$ — радиус окружности.\n"
   ]
  },
  {
   "cell_type": "code",
   "execution_count": 2,
   "metadata": {},
   "outputs": [],
   "source": [
    "def circle_segment_properties(r, angle):\n",
    "    arc_length = (2 * math.pi * r) * (angle / 360)\n",
    "    sector_area = (math.pi * r**2) * (angle / 360)\n",
    "    return arc_length, sector_area"
   ]
  },
  {
   "cell_type": "code",
   "execution_count": null,
   "metadata": {},
   "outputs": [],
   "source": [
    "r = float(input(\"Введите радиус окружности: \"))\n",
    "angle = float(input(\"Введите центральный угол в градусах: \"))"
   ]
  },
  {
   "cell_type": "code",
   "execution_count": 4,
   "metadata": {},
   "outputs": [
    {
     "name": "stdout",
     "output_type": "stream",
     "text": [
      "Длина дуги: 7.85\n",
      "Площадь сектора: 58.90\n"
     ]
    }
   ],
   "source": [
    "arc_length, sector_area = circle_segment_properties(r, angle)\n",
    "\n",
    "print(f\"Длина дуги: {arc_length:.2f}\")\n",
    "print(f\"Площадь сектора: {sector_area:.2f}\")"
   ]
  },
  {
   "cell_type": "markdown",
   "metadata": {},
   "source": [
    "## Действительные числа. \n",
    "Решить:  $${a} {\\times} {x} = {b} $$"
   ]
  },
  {
   "cell_type": "code",
   "execution_count": 5,
   "metadata": {},
   "outputs": [],
   "source": [
    "a = float(input(\"Введите значение a: \"))\n",
    "b = float(input(\"Введите значение b: \"))"
   ]
  },
  {
   "cell_type": "code",
   "execution_count": 6,
   "metadata": {},
   "outputs": [
    {
     "name": "stdout",
     "output_type": "stream",
     "text": [
      "Решение уравнения: x = 1.75\n"
     ]
    }
   ],
   "source": [
    "if a == 0:\n",
    "    if b == 0:\n",
    "        print(\"Уравнение имеет бесконечно много решений.\")\n",
    "    else:\n",
    "        print(\"Уравнение не имеет решения.\")\n",
    "else:\n",
    "    # Вычисление значения x\n",
    "    x = b / a\n",
    "    print(f\"Решение уравнения: x = {x}\")"
   ]
  }
 ],
 "metadata": {
  "kernelspec": {
   "display_name": ".venv",
   "language": "python",
   "name": "python3"
  },
  "language_info": {
   "codemirror_mode": {
    "name": "ipython",
    "version": 3
   },
   "file_extension": ".py",
   "mimetype": "text/x-python",
   "name": "python",
   "nbconvert_exporter": "python",
   "pygments_lexer": "ipython3",
   "version": "3.13.1"
  }
 },
 "nbformat": 4,
 "nbformat_minor": 2
}
