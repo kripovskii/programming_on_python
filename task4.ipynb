{
 "cells": [
  {
   "cell_type": "markdown",
   "metadata": {},
   "source": [
    "1. Исследовать функцию и построить ее график:\n",
    "$$ 𝑓(𝑥) = \\frac{𝑥^2 + 8}{\\sqrt{𝑥^2 − 4}} $$\n",
    "\n",
    "2. Построить уравнение касательной к той же функции, точку касания выбрать\n",
    "произвольно.\n"
   ]
  }
 ],
 "metadata": {
  "language_info": {
   "name": "python"
  }
 },
 "nbformat": 4,
 "nbformat_minor": 2
}
