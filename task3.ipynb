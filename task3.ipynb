{
 "cells": [
  {
   "cell_type": "markdown",
   "metadata": {},
   "source": [
    "# Вариант 1\n",
    "Электрическая цепь состоит из $ n $ резисторов. В таблице приведены\n",
    "сопротивления на каждом резисторе $ r $. Cила тока $ I $ в цепи, а следовательно и на каждом\n",
    "резисторе равна 3.30 А\n",
    "\n",
    "|   | 1 | 2 | 3 | 4 | 5 | 6 | 7 | 8 |\n",
    "|---|---|---|---|---|---|---|---|---|\n",
    "| r, Ом | 0.7 | 0.6 | 1.0 | 0.7 | 1.1 | 1.5 | 1.6 | 1.2 |\n",
    "\n",
    "Резисторы в цепи соединены последовательно.\n",
    "Вычислить:\n",
    "- напряжение $ u_i $ на каждом резисторе по формуле (сформировать вектор):\n",
    "$$ u_i = I * r_i $$\n",
    "- общее сопротивление цепи по формуле:\n",
    "$$ R = r_{1} + r_{2} + ... + r_n $$\n",
    "- напряжение в цепи по формуле:\n",
    "$$ U = u_1 + u_2 + ... + u_n $$\n",
    "- найти напряжение на концах новой цепи, в которую включены резисторы с\n",
    "номерами с 1 по 5 (включительно), а сила тока в ней составляет 4.1 А\n"
   ]
  },
  {
   "cell_type": "code",
   "execution_count": 1,
   "metadata": {},
   "outputs": [],
   "source": [
    "import numpy as np"
   ]
  },
  {
   "cell_type": "code",
   "execution_count": 11,
   "metadata": {},
   "outputs": [
    {
     "name": "stdout",
     "output_type": "stream",
     "text": [
      "Резистор № 1 = 2.3099999999999996 В\n",
      "Резистор № 1 = 1.9799999999999998 В\n",
      "Резистор № 1 = 3.3 В\n",
      "Резистор № 1 = 2.3099999999999996 В\n",
      "Резистор № 1 = 3.63 В\n",
      "Резистор № 1 = 4.949999999999999 В\n",
      "Резистор № 1 = 5.28 В\n",
      "Резистор № 1 = 3.9599999999999995 В\n",
      "Общее сопротивление цепи = 8.399999999999999 Ом\n",
      "Общее напряжение в цепи = 27.72 В\n",
      "Напряжение на конце цепи = 16.81\n"
     ]
    }
   ],
   "source": [
    "resistors = [0.7, 0.6, 1.0, 0.7, 1.1, 1.5, 1.6, 1.2]\n",
    "u_resistors = []\n",
    "for r in resistors:\n",
    "    u_resistors.append(r * 3.30)\n",
    "# формируем вектор\n",
    "for r in u_resistors:\n",
    "    i = 1\n",
    "    print(f\"Резистор № {i} = {r} В\")\n",
    "    i+=1\n",
    "\n",
    "R_allresisrors = 0\n",
    "U_allresistors = 0\n",
    "for r in resistors:\n",
    "    R_allresisrors += r\n",
    "print(f\"Общее сопротивление цепи = {R_allresisrors} Ом\")\n",
    "\n",
    "for u in u_resistors:\n",
    "    U_allresistors += u\n",
    "print(f\"Общее напряжение в цепи = {U_allresistors} В\")\n",
    "# Для новой цепи:\n",
    "R_all_in_new = 0\n",
    "for r in resistors[:5]:\n",
    "    R_all_in_new += r\n",
    "U_in_new = R_all_in_new  * 4.1\n",
    "print(f\"Напряжение на конце цепи = {U_in_new}\")"
   ]
  }
 ],
 "metadata": {
  "kernelspec": {
   "display_name": ".venv",
   "language": "python",
   "name": "python3"
  },
  "language_info": {
   "codemirror_mode": {
    "name": "ipython",
    "version": 3
   },
   "file_extension": ".py",
   "mimetype": "text/x-python",
   "name": "python",
   "nbconvert_exporter": "python",
   "pygments_lexer": "ipython3",
   "version": "3.13.2"
  }
 },
 "nbformat": 4,
 "nbformat_minor": 2
}
